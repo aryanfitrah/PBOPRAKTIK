{
  "nbformat": 4,
  "nbformat_minor": 0,
  "metadata": {
    "colab": {
      "provenance": [],
      "authorship_tag": "ABX9TyNBqSNgMm7HN1uRJaAjFeEh",
      "include_colab_link": true
    },
    "kernelspec": {
      "name": "python3",
      "display_name": "Python 3"
    },
    "language_info": {
      "name": "python"
    }
  },
  "cells": [
    {
      "cell_type": "markdown",
      "metadata": {
        "id": "view-in-github",
        "colab_type": "text"
      },
      "source": [
        "<a href=\"https://colab.research.google.com/github/aryanfitrah/PBOPRAKTIK/blob/main/PERTEMUAN%204.ipynb\" target=\"_parent\"><img src=\"https://colab.research.google.com/assets/colab-badge.svg\" alt=\"Open In Colab\"/></a>"
      ]
    },
    {
      "cell_type": "markdown",
      "source": [
        "Apa itu Object Oriented Programing\n",
        " 1.di python semuanya adalah objek, seperti list, string\n",
        " 2.di python objek disebut class\n",
        " 3.OOP itu memungkinkan kita buat objek sendiri termasuk methods dan atributnya.\n"
      ],
      "metadata": {
        "id": "6Ls9bct5R4O3"
      }
    },
    {
      "cell_type": "code",
      "source": [
        "print(type(\"saya adalah string\"))\n"
      ],
      "metadata": {
        "colab": {
          "base_uri": "https://localhost:8080/"
        },
        "id": "dnC9-aymSua-",
        "outputId": "a7d25960-dd9e-424d-bf87-f6e8f68f70ff"
      },
      "execution_count": null,
      "outputs": [
        {
          "output_type": "stream",
          "name": "stdout",
          "text": [
            "<class 'str'>\n"
          ]
        }
      ]
    },
    {
      "cell_type": "code",
      "source": [
        "class Namaclass:\n",
        "  def __init__(self, nama_atribut1,nama_atribut2):\n",
        "    self.nama_atribut1 = nama_atribut1\n",
        "    self.nama_atribut2 = nama_atribut2\n",
        "\n",
        "  def nama_method(self):\n",
        "    return#nulis fungsi\n",
        "\n",
        "class person:\n",
        "  def __init__(self, nama, umur):\n",
        "    self.nama = nama\n",
        "    self.umur = umur\n",
        "\n",
        "  def introduce(self):\n",
        "      return f'Halo Nama Saya Adalah{self.nama} dan Umur saya {self.umur} tahun'\n",
        "#membuat objek person dari kelas person\n",
        "person = person(\"Burhan\", 28)\n",
        "\n",
        "#memanggil metode introduce dan mengakses atribut person dan umur menggunakan self\n",
        "print(person.introduce())\n"
      ],
      "metadata": {
        "colab": {
          "base_uri": "https://localhost:8080/"
        },
        "id": "aqu_v-SATG3f",
        "outputId": "b41f974e-c31f-4818-a90e-0ebf91298271"
      },
      "execution_count": null,
      "outputs": [
        {
          "output_type": "stream",
          "name": "stdout",
          "text": [
            "Halo Nama Saya AdalahBurhan dan Umur saya 28 tahun\n"
          ]
        }
      ]
    },
    {
      "cell_type": "code",
      "source": [
        "class Mahasiswa:\n",
        "  def __init__(self, nama, nim, jurusan):\n",
        "    self.nama = nama\n",
        "    self.nim = nim\n",
        "    self.jurusan = jurusan\n",
        "    #inisialisasi daftar nilai list kosong\n",
        "    self.nilai = []\n",
        "\n",
        "  def tambahnilai(self, matakuliah, nilai):\n",
        "    self.nilai.append([matakuliah,nilai])\n",
        "\n",
        "  def rata_rata_nilai(self):\n",
        "    total_nilai = sum(nilai for matakuliah, nilai in self.nilai)\n",
        "    rata_rata = total_nilai / len (self.nilai) if self.nilai else 0\n",
        "    return rata_rata\n",
        "\n",
        "  def info(self):\n",
        "    print(f\"Nama :{self.nama}\")\n",
        "    print(f\"NIM:{self.nim}\")\n",
        "    print(f\"Jurusan:{self.jurusan}\")\n",
        "    print(f\"Rata-rata_Nilai:{self.rata_rata_nilai()}\")"
      ],
      "metadata": {
        "id": "-yjInz3hVeqP"
      },
      "execution_count": null,
      "outputs": []
    },
    {
      "cell_type": "code",
      "source": [
        "mahasiswa1 = Mahasiswa(\"Burhan\", 5220411091, \"Informatika\")\n",
        "mahasiswa1.tambahnilai(\"Apti\",90)\n",
        "mahasiswa1.tambahnilai(\"Algoritma Pemrograman Praktik\", 80)\n",
        "mahasiswa1.tambahnilai(\"PBO\", 100)\n",
        "mahasiswa1.info()\n"
      ],
      "metadata": {
        "colab": {
          "base_uri": "https://localhost:8080/"
        },
        "id": "5zkE9l_1XoDM",
        "outputId": "59fa9578-7ded-4794-e3c6-ef8d76eff98d"
      },
      "execution_count": null,
      "outputs": [
        {
          "output_type": "stream",
          "name": "stdout",
          "text": [
            "Nama :Burhan\n",
            "NIM:5220411091\n",
            "Jurusan:Informatika\n",
            "Rata-rata_Nilai:90.0\n"
          ]
        }
      ]
    },
    {
      "cell_type": "code",
      "source": [
        "class Anjing:\n",
        "  def __init__(self, nama, umur, warna):\n",
        "    self.nama = nama\n",
        "    self.umur = umur\n",
        "    self.warna = warna\n",
        "\n",
        "  def menggonggong(self):\n",
        "    print(\"guk....guk...!\")\n",
        "\n",
        "  def info(self):\n",
        "    print(\"Nama Anjing = \"+self.nama+\"umurnya = \"+str(self.umur)+\"tahun, warnanya =\"+str(self.warna))\n",
        "\n",
        "  def berlari(self):\n",
        "    print(\"cepat....sekali\")"
      ],
      "metadata": {
        "id": "8JFu45J2ZyRF"
      },
      "execution_count": null,
      "outputs": []
    },
    {
      "cell_type": "code",
      "source": [
        "class Pelajar:\n",
        "  def __init__(self, noinduk, nama, kelas, gender, tempatLahir, tanggalLahir):\n",
        "    self.noinduk = noinduk\n",
        "    self.nama = nama\n",
        "    self.kelas = kelas\n",
        "    self.gender = gender\n",
        "    self.tempatLahir = tempatLahir\n",
        "    self.tanggalLahir = tanggalLahir\n",
        "\n",
        "  def lulus(self):\n",
        "    print(\"Selamat Kamu Sudah Lulus!!\")\n",
        "\n",
        "  def naikKelas(self):\n",
        "    print(\"Selamat Kamu Naik Kelas!!\")\n",
        "\n",
        "  def bayarSPP(self):\n",
        "    print(\"Kamu Sudah Bayar SPP!!\")\n",
        "\n"
      ],
      "metadata": {
        "id": "nUyFAmadfd5b"
      },
      "execution_count": null,
      "outputs": []
    },
    {
      "cell_type": "code",
      "source": [
        "class Menu:\n",
        "   def __init__(self, nama, deskripsi, harga):\n",
        "    self.nama = nama\n",
        "    self.deskripsi = deskripsi\n",
        "    self.harga = harga\n",
        "\n",
        "    def dipesan(self):\n",
        "      print(\"Menu Sudah Dipesan!!\")"
      ],
      "metadata": {
        "id": "xSiFaZr8g4xy"
      },
      "execution_count": null,
      "outputs": []
    },
    {
      "cell_type": "code",
      "source": [
        "class Garis:\n",
        "  def __init__(self, x, y):\n",
        "    self.x = x\n",
        "    self.y = y\n",
        "\n",
        "  def rotasi(self):\n",
        "    print(\"Sudah Di putar!!\")\n",
        "\n",
        "  def translasi(self):\n",
        "    print(\"Sudah Di Translasi!!\")"
      ],
      "metadata": {
        "id": "jWY6RqIbhf4y"
      },
      "execution_count": null,
      "outputs": []
    },
    {
      "cell_type": "code",
      "source": [
        "class Buku:\n",
        "  def __init__(self, judul, pengarang, tahunTerbit):\n",
        "    self.judul = judul\n",
        "    self.pengarang = pengarang\n",
        "    self.tahunTerbit = tahunTerbit\n",
        "\n",
        "  def dipinjam(self):\n",
        "    print(\"Buku ini sudah dipinjam!!\")\n",
        "\n",
        "  def dikembalikan(self):\n",
        "    print(\"Buku Belum di kembalikan!!\")"
      ],
      "metadata": {
        "id": "vc9rDNeSiLgK"
      },
      "execution_count": null,
      "outputs": []
    }
  ]
}